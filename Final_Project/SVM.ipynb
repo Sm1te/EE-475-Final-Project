{
 "cells": [
  {
   "cell_type": "code",
   "execution_count": null,
   "metadata": {},
   "outputs": [],
   "source": [
    "import matplotlib.pyplot as plt\n",
    "import numpy as np \n",
    "from sklearn import svm\n",
    "from sklearn.svm import SVC\n",
    "from sklearn.preprocessing import StandardScaler\n",
    "from sklearn.pipeline import Pipeline\n",
    "from sklearn.model_selection import GridSearchCV\n",
    "from PIL import Image\n",
    "\n",
    "print(\"Imported libraries.\")"
   ]
  },
  {
   "cell_type": "code",
   "execution_count": null,
   "metadata": {},
   "outputs": [],
   "source": [
    "mnist_train = np.loadtxt('mnist_train_8000.csv', delimiter=',', skiprows=0)  #Longer compile time, more accurate\n",
    "#mnist_train = np.loadtxt('mnist_train_1200.csv', delimiter=',', skiprows=0) #Shorter compile time, less accurate\n",
    "mnist_test = np.loadtxt('mnist_test_1000.csv', delimiter=',', skiprows=0)\n",
    "\n",
    "train_data = mnist_train[:,1:]\n",
    "train_digit = mnist_train[:, 0]\n",
    "\n",
    "test_data = mnist_test[:,1:]\n",
    "test_digit = mnist_test[:, 0]\n",
    "\n",
    "print(\"Imported training/testing MNIST datasets.\")\n",
    "print(\"The training dataset has \" + str(len(train_digit)) + \" entries.\")\n",
    "print(\"The testing dataset has \" + str(len(test_digit)) + \" entries.\")"
   ]
  },
  {
   "cell_type": "code",
   "execution_count": null,
   "metadata": {},
   "outputs": [],
   "source": [
    "steps = [('scaler', StandardScaler()), ('SVM', SVC(kernel='poly'))]\n",
    "pipeline = Pipeline(steps)\n",
    "\n",
    "print(\"Defined transformer/estimator objects.\")"
   ]
  },
  {
   "cell_type": "code",
   "execution_count": null,
   "metadata": {
    "scrolled": true
   },
   "outputs": [],
   "source": [
    "parameters = {'SVM__C':[0.001], 'SVM__gamma':[10]}\n",
    "grid = GridSearchCV(pipeline, param_grid=parameters)\n",
    "\n",
    "grid.fit(train_data, train_digit)\n",
    "test_pred_digit = grid.predict(test_data)\n",
    "\n",
    "print('Trained the model! Accuracy score = ' + str(100 * grid.score(test_data, test_digit)) + '%.')"
   ]
  },
  {
   "cell_type": "code",
   "execution_count": null,
   "metadata": {},
   "outputs": [],
   "source": [
    "n = np.random.randint(len(test_data))\n",
    "img = (np.reshape(test_data[n], (28, 28)) * 255).astype(np.uint8)\n",
    "\n",
    "print('Testing the model...')\n",
    "if test_pred_digit[n] == test_digit[n]:\n",
    "    print('Prediction correct!')\n",
    "else:\n",
    "    print('Prediction failed!')\n",
    "\n",
    "plt.title('Predicted: ' + str(int(test_pred_digit[n])) + ', Actual: ' + str(int(test_digit[n])))\n",
    "plt.imshow(img, interpolation='nearest', cmap='gray')\n",
    "plt.show()"
   ]
  },
  {
   "cell_type": "code",
   "execution_count": null,
   "metadata": {},
   "outputs": [],
   "source": [
    "self_test = []\n",
    "img_arr = []\n",
    "\n",
    "for n in range(1, 10, 1):\n",
    "    file_name = str(n) + 'test.png'\n",
    "    img = Image.open(file_name).convert('L')\n",
    "    img_data = np.array(img)\n",
    "    img_arr.append(img_data)\n",
    "    data = img_data.flatten()\n",
    "    self_test.append(data)\n",
    "\n",
    "print(\"Imported handmade test data.\")"
   ]
  },
  {
   "cell_type": "code",
   "execution_count": null,
   "metadata": {
    "scrolled": false
   },
   "outputs": [],
   "source": [
    "test_pred = grid.predict(self_test)\n",
    "fig, axs = plt.subplots(3, 3, figsize=(10, 10))\n",
    "\n",
    "for n in range(len(test_pred)):\n",
    "    axs[n//3, n%3].imshow(img_arr[n], interpolation='nearest', cmap='gray')\n",
    "    axs[n//3, n%3].set_title('Predicted digit: ' + str(int(test_pred[n])))"
   ]
  }
 ],
 "metadata": {
  "kernelspec": {
   "display_name": "Python 3",
   "language": "python",
   "name": "python3"
  },
  "language_info": {
   "codemirror_mode": {
    "name": "ipython",
    "version": 3
   },
   "file_extension": ".py",
   "mimetype": "text/x-python",
   "name": "python",
   "nbconvert_exporter": "python",
   "pygments_lexer": "ipython3",
   "version": "3.8.5"
  }
 },
 "nbformat": 4,
 "nbformat_minor": 4
}
